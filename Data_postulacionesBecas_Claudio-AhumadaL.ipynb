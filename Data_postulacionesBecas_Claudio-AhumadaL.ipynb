{
 "cells": [
  {
   "cell_type": "code",
   "execution_count": 1,
   "id": "f0ae2ef4",
   "metadata": {},
   "outputs": [],
   "source": [
    "# Import necessary libraries\n",
    "\n",
    "import pandas as pd\n",
    "import numpy as np\n",
    "import matplotlib.pyplot as plt\n",
    "import seaborn as sns"
   ]
  },
  {
   "cell_type": "code",
   "execution_count": 2,
   "id": "d9a52acf",
   "metadata": {},
   "outputs": [
    {
     "data": {
      "text/html": [
       "<div>\n",
       "<style scoped>\n",
       "    .dataframe tbody tr th:only-of-type {\n",
       "        vertical-align: middle;\n",
       "    }\n",
       "\n",
       "    .dataframe tbody tr th {\n",
       "        vertical-align: top;\n",
       "    }\n",
       "\n",
       "    .dataframe thead th {\n",
       "        text-align: right;\n",
       "    }\n",
       "</style>\n",
       "<table border=\"1\" class=\"dataframe\">\n",
       "  <thead>\n",
       "    <tr style=\"text-align: right;\">\n",
       "      <th></th>\n",
       "      <th>ANIO_PROCESO</th>\n",
       "      <th>MRUN</th>\n",
       "      <th>REGION</th>\n",
       "      <th>NOMBRE_REGION</th>\n",
       "      <th>COMUNA</th>\n",
       "      <th>NOMBRE_COMUNA</th>\n",
       "      <th>FEC_NAC_ALU</th>\n",
       "      <th>EDAD</th>\n",
       "      <th>GENERO</th>\n",
       "      <th>PROCESO</th>\n",
       "      <th>COD_DEPE</th>\n",
       "      <th>NEM</th>\n",
       "      <th>ETNIA</th>\n",
       "    </tr>\n",
       "  </thead>\n",
       "  <tbody>\n",
       "    <tr>\n",
       "      <th>0</th>\n",
       "      <td>2022</td>\n",
       "      <td>26</td>\n",
       "      <td>13</td>\n",
       "      <td>Región Metropolitana de Santiago</td>\n",
       "      <td>13130</td>\n",
       "      <td>San Miguel</td>\n",
       "      <td>200212</td>\n",
       "      <td>19</td>\n",
       "      <td>2</td>\n",
       "      <td>FUAS</td>\n",
       "      <td>3</td>\n",
       "      <td>595</td>\n",
       "      <td>1</td>\n",
       "    </tr>\n",
       "    <tr>\n",
       "      <th>1</th>\n",
       "      <td>2022</td>\n",
       "      <td>35</td>\n",
       "      <td>7</td>\n",
       "      <td>Región del Maule</td>\n",
       "      <td>7401</td>\n",
       "      <td>Linares</td>\n",
       "      <td>199711</td>\n",
       "      <td>24</td>\n",
       "      <td>1</td>\n",
       "      <td>FUAS</td>\n",
       "      <td>2</td>\n",
       "      <td>600</td>\n",
       "      <td>1</td>\n",
       "    </tr>\n",
       "    <tr>\n",
       "      <th>2</th>\n",
       "      <td>2022</td>\n",
       "      <td>51</td>\n",
       "      <td>13</td>\n",
       "      <td>Región Metropolitana de Santiago</td>\n",
       "      <td>13301</td>\n",
       "      <td>Colina</td>\n",
       "      <td>198305</td>\n",
       "      <td>39</td>\n",
       "      <td>2</td>\n",
       "      <td>FUAS</td>\n",
       "      <td>2</td>\n",
       "      <td>560</td>\n",
       "      <td>1</td>\n",
       "    </tr>\n",
       "    <tr>\n",
       "      <th>3</th>\n",
       "      <td>2022</td>\n",
       "      <td>55</td>\n",
       "      <td>5</td>\n",
       "      <td>Región de Valparaí­so</td>\n",
       "      <td>5801</td>\n",
       "      <td>Quilpué</td>\n",
       "      <td>198711</td>\n",
       "      <td>34</td>\n",
       "      <td>2</td>\n",
       "      <td>BVP</td>\n",
       "      <td>3</td>\n",
       "      <td>530</td>\n",
       "      <td>1</td>\n",
       "    </tr>\n",
       "    <tr>\n",
       "      <th>4</th>\n",
       "      <td>2022</td>\n",
       "      <td>55</td>\n",
       "      <td>5</td>\n",
       "      <td>Región de Valparaí­so</td>\n",
       "      <td>5801</td>\n",
       "      <td>Quilpué</td>\n",
       "      <td>198711</td>\n",
       "      <td>34</td>\n",
       "      <td>2</td>\n",
       "      <td>FUAS</td>\n",
       "      <td>3</td>\n",
       "      <td>530</td>\n",
       "      <td>1</td>\n",
       "    </tr>\n",
       "  </tbody>\n",
       "</table>\n",
       "</div>"
      ],
      "text/plain": [
       "   ANIO_PROCESO  MRUN  REGION                     NOMBRE_REGION  COMUNA  \\\n",
       "0          2022    26      13  Región Metropolitana de Santiago   13130   \n",
       "1          2022    35       7                  Región del Maule    7401   \n",
       "2          2022    51      13  Región Metropolitana de Santiago   13301   \n",
       "3          2022    55       5             Región de Valparaí­so    5801   \n",
       "4          2022    55       5             Región de Valparaí­so    5801   \n",
       "\n",
       "  NOMBRE_COMUNA  FEC_NAC_ALU  EDAD  GENERO PROCESO COD_DEPE  NEM  ETNIA  \n",
       "0    San Miguel       200212    19       2    FUAS        3  595      1  \n",
       "1       Linares       199711    24       1    FUAS        2  600      1  \n",
       "2        Colina       198305    39       2    FUAS        2  560      1  \n",
       "3       Quilpué       198711    34       2     BVP        3  530      1  \n",
       "4       Quilpué       198711    34       2    FUAS        3  530      1  "
      ]
     },
     "execution_count": 2,
     "metadata": {},
     "output_type": "execute_result"
    }
   ],
   "source": [
    "# Open and explore data\n",
    "\n",
    "data_postulaciones = pd.read_csv(\"POSTULACIONES_FUAS_2022_WEB.csv\", sep=\";\", encoding = \"utf-8-sig\")\n",
    "data_postulaciones = data_postulaciones.replace('Ã©','é', regex=True)\n",
    "data_postulaciones = data_postulaciones.replace('Ã‘','Ñ', regex=True)\n",
    "data_postulaciones = data_postulaciones.replace('Ã','í', regex=True)\n",
    "data_postulaciones.head()\n"
   ]
  },
  {
   "cell_type": "code",
   "execution_count": 3,
   "id": "51f1e9bb",
   "metadata": {},
   "outputs": [],
   "source": [
    "# Filter students by region\n",
    "\n",
    "students_region_1 = data_postulaciones[data_postulaciones.REGION == 1]\n",
    "students_region_2 = data_postulaciones[data_postulaciones.REGION == 2]\n",
    "students_region_3 = data_postulaciones[data_postulaciones.REGION == 3]\n",
    "students_region_4 = data_postulaciones[data_postulaciones.REGION == 4]\n",
    "students_region_5 = data_postulaciones[data_postulaciones.REGION == 5]\n",
    "students_region_6 = data_postulaciones[data_postulaciones.REGION == 6]\n",
    "students_region_7 = data_postulaciones[data_postulaciones.REGION == 7]\n",
    "students_region_8 = data_postulaciones[data_postulaciones.REGION == 8]\n",
    "students_region_9 = data_postulaciones[data_postulaciones.REGION == 9]\n",
    "students_region_10 = data_postulaciones[data_postulaciones.REGION == 10]\n",
    "students_region_11 = data_postulaciones[data_postulaciones.REGION == 11]\n",
    "students_region_12 = data_postulaciones[data_postulaciones.REGION == 12]\n",
    "students_region_13 = data_postulaciones[data_postulaciones.REGION == 13]"
   ]
  },
  {
   "cell_type": "code",
   "execution_count": 4,
   "id": "554018bd",
   "metadata": {},
   "outputs": [],
   "source": [
    "# Filter students by gender (1: male, 2: female)\n",
    "\n",
    "students_male = data_postulaciones[data_postulaciones.GENERO == 1]\n",
    "students_female = data_postulaciones[data_postulaciones.GENERO == 2]"
   ]
  },
  {
   "cell_type": "code",
   "execution_count": 5,
   "id": "504ea11f",
   "metadata": {},
   "outputs": [],
   "source": [
    "# Filter students by type of school (1: Corporación municipal, 2: Municipal DAEM, 3: Particular subvencionado, 4: Particular pagado, 5: Corp. de Adm. Delegado, 6: SLEP)\n",
    "\n",
    "students_corpmunicipal = data_postulaciones[data_postulaciones.COD_DEPE == 1]\n",
    "students_daemmunicipal = data_postulaciones[data_postulaciones.COD_DEPE == 2]\n",
    "students_psubvencionado = data_postulaciones[data_postulaciones.COD_DEPE == 3]\n",
    "students_ppagado = data_postulaciones[data_postulaciones.COD_DEPE == 4]\n",
    "students_cadmdel = data_postulaciones[data_postulaciones.COD_DEPE == 5]\n",
    "students_slep = data_postulaciones[data_postulaciones.COD_DEPE == 6]"
   ]
  },
  {
   "cell_type": "code",
   "execution_count": 6,
   "id": "21e35202",
   "metadata": {},
   "outputs": [
    {
     "name": "stdout",
     "output_type": "stream",
     "text": [
      "The mean of the NEM of the female group is 572.04. The standard deviation of the NEM of the female group is 53.56.\n",
      "This group has a median of 570.0 and a mode of 550.\n",
      "The mean of the NEM of the male group is 562.95. The standard deviation of the NEM of the male group is 53.\n",
      "This group has a median of 560.0 and a mode of 550.\n"
     ]
    }
   ],
   "source": [
    "# Summary Statistics for Male and Female groups\n",
    "\n",
    "female_nem_mean = round(np.mean(students_female[\"NEM\"]), 2)\n",
    "female_nem_std = round(np.std(students_female[\"NEM\"]), 2)\n",
    "female_nem_median = students_female[\"NEM\"].median()\n",
    "female_nem_mode = students_female[\"NEM\"].mode()[0]\n",
    "male_nem_mean = round(np.mean(students_male[\"NEM\"]), 2)\n",
    "male_nem_std = round(np.std(students_male[\"NEM\"]))\n",
    "male_nem_median = students_male[\"NEM\"].median()\n",
    "male_nem_mode = students_male[\"NEM\"].mode()[0]\n",
    "\n",
    "print(f\"The mean of the NEM of the female group is {female_nem_mean}. The standard deviation of the NEM of the female group is {female_nem_std}.\\nThis group has a median of {female_nem_median} and a mode of {female_nem_mode}.\")\n",
    "print(f\"The mean of the NEM of the male group is {male_nem_mean}. The standard deviation of the NEM of the male group is {male_nem_std}.\\nThis group has a median of {male_nem_median} and a mode of {male_nem_mode}.\")"
   ]
  },
  {
   "cell_type": "code",
   "execution_count": 7,
   "id": "81e16f98",
   "metadata": {},
   "outputs": [
    {
     "data": {
      "image/png": "[encoded data removed]",
      "text/plain": [
       "<Figure size 640x480 with 1 Axes>"
      ]
     },
     "metadata": {},
     "output_type": "display_data"
    },
    {
     "data": {
      "image/png": "[encoded data removed]",
      "text/plain": [
       "<Figure size 640x480 with 1 Axes>"
      ]
     },
     "metadata": {},
     "output_type": "display_data"
    },
    {
     "data": {
      "text/plain": [
       "<Figure size 640x480 with 0 Axes>"
      ]
     },
     "metadata": {},
     "output_type": "display_data"
    }
   ],
   "source": [
    "# Histogram of NEM by Gender\n",
    "plt.hist(x = students_female[\"NEM\"], alpha=0.8, color=\"royalblue\", density = True, label = \"Female NEM\", range = [300, 720], bins = 50)\n",
    "plt.hist(x = students_male[\"NEM\"], alpha=0.5, color=\"red\", density = True, label =\"Male NEM\", range = [300, 720], bins = 50)\n",
    "plt.axvline(students_female[\"NEM\"].mean(), color='darkblue', linestyle='dashed', linewidth=1)\n",
    "plt.axvline(students_male[\"NEM\"].mean(), color='darkred', linestyle='dashed', linewidth=1)\n",
    "plt.legend()\n",
    "plt.xlabel('NEM')\n",
    "plt.ylabel('Probability Density')\n",
    "plt.title(\"NEM by Gender\")\n",
    "plt.show()\n",
    "plt.clf()\n",
    "\n",
    "\n",
    "# Boxplot of NEM by Gender\n",
    "ax = sns.boxplot(data = data_postulaciones, x= \"GENERO\", y = \"NEM\")\n",
    "labels = [\"Male\", \"Female\"]\n",
    "ax.set_xticklabels(labels)\n",
    "ax.set(xlabel='Gender')\n",
    "plt.show()\n",
    "plt.clf()"
   ]
  },
  {
   "cell_type": "code",
   "execution_count": 8,
   "id": "a0530c46",
   "metadata": {},
   "outputs": [],
   "source": [
    "# Summary statistics for type of schools\n",
    "# Boxplot of NEM by type of school\n",
    "# Association of NEM by type of school\n",
    "\n",
    "# Summary statistics for region\n",
    "# Boxplot of NEM by region\n",
    "# Association of NEM by region\n",
    "\n",
    "# Scatterplot of NEM by Age\n",
    "# Covariance of NEM and Age\n",
    "# Correlation of NEM and Age\n",
    "\n",
    "# Conclusions"
   ]
  }
 ],
 "metadata": {
  "kernelspec": {
   "display_name": "Python 3 (ipykernel)",
   "language": "python",
   "name": "python3"
  },
  "language_info": {
   "codemirror_mode": {
    "name": "ipython",
    "version": 3
   },
   "file_extension": ".py",
   "mimetype": "text/x-python",
   "name": "python",
   "nbconvert_exporter": "python",
   "pygments_lexer": "ipython3",
   "version": "3.9.13"
  }
 },
 "nbformat": 4,
 "nbformat_minor": 5
}
